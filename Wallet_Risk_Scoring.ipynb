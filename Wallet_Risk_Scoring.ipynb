{
 "cells": [
  {
   "cell_type": "markdown",
   "id": "ad3d3c61-443e-49b0-b554-80e8fc79fc62",
   "metadata": {},
   "source": [
    "### Install Required Libraries"
   ]
  },
  {
   "cell_type": "code",
   "execution_count": 13,
   "id": "64a6ee22-84cc-4a93-be52-21d06fd08237",
   "metadata": {},
   "outputs": [
    {
     "name": "stdout",
     "output_type": "stream",
     "text": [
      "Requirement already satisfied: requests in c:\\users\\admin\\anaconda3\\lib\\site-packages (2.32.3)\n",
      "Requirement already satisfied: pandas in c:\\users\\admin\\anaconda3\\lib\\site-packages (2.2.2)\n",
      "Requirement already satisfied: tqdm in c:\\users\\admin\\anaconda3\\lib\\site-packages (4.66.5)\n",
      "Requirement already satisfied: charset-normalizer<4,>=2 in c:\\users\\admin\\anaconda3\\lib\\site-packages (from requests) (3.3.2)\n",
      "Requirement already satisfied: idna<4,>=2.5 in c:\\users\\admin\\anaconda3\\lib\\site-packages (from requests) (3.7)\n",
      "Requirement already satisfied: urllib3<3,>=1.21.1 in c:\\users\\admin\\anaconda3\\lib\\site-packages (from requests) (2.2.3)\n",
      "Requirement already satisfied: certifi>=2017.4.17 in c:\\users\\admin\\anaconda3\\lib\\site-packages (from requests) (2025.1.31)\n",
      "Requirement already satisfied: numpy>=1.26.0 in c:\\users\\admin\\anaconda3\\lib\\site-packages (from pandas) (1.26.4)\n",
      "Requirement already satisfied: python-dateutil>=2.8.2 in c:\\users\\admin\\anaconda3\\lib\\site-packages (from pandas) (2.9.0.post0)\n",
      "Requirement already satisfied: pytz>=2020.1 in c:\\users\\admin\\anaconda3\\lib\\site-packages (from pandas) (2024.1)\n",
      "Requirement already satisfied: tzdata>=2022.7 in c:\\users\\admin\\anaconda3\\lib\\site-packages (from pandas) (2023.3)\n",
      "Requirement already satisfied: colorama in c:\\users\\admin\\anaconda3\\lib\\site-packages (from tqdm) (0.4.6)\n",
      "Requirement already satisfied: six>=1.5 in c:\\users\\admin\\anaconda3\\lib\\site-packages (from python-dateutil>=2.8.2->pandas) (1.16.0)\n"
     ]
    }
   ],
   "source": [
    "# Install required libraries if not already installed\n",
    "!pip install requests pandas tqdm"
   ]
  },
  {
   "cell_type": "markdown",
   "id": "b889b3bb-1ac2-4727-a62f-3b46cc5194df",
   "metadata": {},
   "source": [
    "### Load Wallets from CSV"
   ]
  },
  {
   "cell_type": "code",
   "execution_count": 9,
   "id": "96cced23-d20d-44d9-8789-e2cad594e957",
   "metadata": {},
   "outputs": [],
   "source": [
    "# Import all required modules\n",
    "import pandas as pd\n",
    "import requests\n",
    "from tqdm import tqdm\n",
    "import time"
   ]
  },
  {
   "cell_type": "markdown",
   "id": "2e631b25-9781-4a36-ab0f-cd8438c6ffbf",
   "metadata": {},
   "source": [
    "wallet_df = pd.read_csv(\"Wallet id - Sheet1.csv\")\n",
    "wallet_list = wallet_df['wallet_id'].dropna().unique().tolist()\n",
    "wallet_list[:5]  # preview first 5"
   ]
  },
  {
   "cell_type": "markdown",
   "id": "dca7c85c-ff25-4164-8d29-3348d5b3a15a",
   "metadata": {},
   "source": [
    "### Set Covalent API Details"
   ]
  },
  {
   "cell_type": "code",
   "execution_count": 1,
   "id": "06421590-ff13-484c-be4f-7981b6e65576",
   "metadata": {},
   "outputs": [],
   "source": [
    "COVALENT_API_KEY = \"cqt_rQHKjfpqGbfVCQFjm8Txgbc68CgH\"\n",
    "CHAIN_ID = 1  # Ethereum Mainnet"
   ]
  },
  {
   "cell_type": "markdown",
   "id": "c9fd2707-e608-48da-9d02-d7149c26e672",
   "metadata": {},
   "source": [
    "### Define Function to Fetch Compound V2 Transactions"
   ]
  },
  {
   "cell_type": "code",
   "execution_count": 13,
   "id": "bf7c4839-5c62-4fb2-9e41-2fb8d65e75d1",
   "metadata": {},
   "outputs": [],
   "source": [
    "import requests\n",
    "from tqdm import tqdm\n",
    "\n",
    "def get_wallet_transactions(wallet_address):\n",
    "    url = f\"https://api.covalenthq.com/v1/{CHAIN_ID}/address/{wallet_address}/transactions_v2/\"\n",
    "    params = {\n",
    "        \"key\": COVALENT_API_KEY\n",
    "    }\n",
    "    try:\n",
    "        response = requests.get(url, params=params)\n",
    "        if response.status_code != 200:\n",
    "            print(f\"[ERROR] HTTP {response.status_code} for wallet: {wallet_address}\")\n",
    "            return None\n",
    "        return response.json()\n",
    "    except Exception as e:\n",
    "        print(f\"[ERROR] Wallet: {wallet_address}, {e}\")\n",
    "        return None"
   ]
  },
  {
   "cell_type": "markdown",
   "id": "01403c3f-77e5-49ae-877f-3f0df03f0d86",
   "metadata": {},
   "source": [
    "### Collect Data for All Wallets"
   ]
  },
  {
   "cell_type": "code",
   "execution_count": 15,
   "id": "74d3f875-8b53-42d1-b1b4-a6fc12972026",
   "metadata": {},
   "outputs": [
    {
     "name": "stderr",
     "output_type": "stream",
     "text": [
      "100%|██████████████████████████████████████████████████████████████████████████████████| 10/10 [00:33<00:00,  3.37s/it]\n"
     ]
    }
   ],
   "source": [
    "wallet_data = {}\n",
    "\n",
    "for wallet in tqdm(wallet_list[:10]):  # test on first 10\n",
    "    data = get_wallet_transactions(wallet)\n",
    "    if data and data.get('data', {}).get('items'):\n",
    "        wallet_data[wallet] = data['data']['items']"
   ]
  },
  {
   "cell_type": "markdown",
   "id": "7e71cd85-4739-45de-8da6-497a6428db23",
   "metadata": {},
   "source": [
    "### Create Features From Transactions"
   ]
  },
  {
   "cell_type": "code",
   "execution_count": 17,
   "id": "e815f940-de8e-44ef-8f8d-e0615a5336d4",
   "metadata": {},
   "outputs": [
    {
     "data": {
      "text/html": [
       "<div>\n",
       "<style scoped>\n",
       "    .dataframe tbody tr th:only-of-type {\n",
       "        vertical-align: middle;\n",
       "    }\n",
       "\n",
       "    .dataframe tbody tr th {\n",
       "        vertical-align: top;\n",
       "    }\n",
       "\n",
       "    .dataframe thead th {\n",
       "        text-align: right;\n",
       "    }\n",
       "</style>\n",
       "<table border=\"1\" class=\"dataframe\">\n",
       "  <thead>\n",
       "    <tr style=\"text-align: right;\">\n",
       "      <th></th>\n",
       "      <th>wallet_id</th>\n",
       "      <th>total_txns</th>\n",
       "      <th>successful_txns</th>\n",
       "      <th>success_ratio</th>\n",
       "      <th>total_gas</th>\n",
       "    </tr>\n",
       "  </thead>\n",
       "  <tbody>\n",
       "    <tr>\n",
       "      <th>0</th>\n",
       "      <td>0x0039f22efb07a647557c7c5d17854cfd6d489ef3</td>\n",
       "      <td>100</td>\n",
       "      <td>99</td>\n",
       "      <td>0.99</td>\n",
       "      <td>235826553</td>\n",
       "    </tr>\n",
       "    <tr>\n",
       "      <th>1</th>\n",
       "      <td>0x06b51c6882b27cb05e712185531c1f74996dd988</td>\n",
       "      <td>5</td>\n",
       "      <td>5</td>\n",
       "      <td>1.00</td>\n",
       "      <td>308732</td>\n",
       "    </tr>\n",
       "    <tr>\n",
       "      <th>2</th>\n",
       "      <td>0x0795732aacc448030ef374374eaae57d2965c16c</td>\n",
       "      <td>4</td>\n",
       "      <td>4</td>\n",
       "      <td>1.00</td>\n",
       "      <td>290793</td>\n",
       "    </tr>\n",
       "    <tr>\n",
       "      <th>3</th>\n",
       "      <td>0x0aaa79f1a86bc8136cd0d1ca0d51964f4e3766f9</td>\n",
       "      <td>80</td>\n",
       "      <td>80</td>\n",
       "      <td>1.00</td>\n",
       "      <td>132280277</td>\n",
       "    </tr>\n",
       "    <tr>\n",
       "      <th>4</th>\n",
       "      <td>0x0fe383e5abc200055a7f391f94a5f5d1f844b9ae</td>\n",
       "      <td>5</td>\n",
       "      <td>5</td>\n",
       "      <td>1.00</td>\n",
       "      <td>308720</td>\n",
       "    </tr>\n",
       "  </tbody>\n",
       "</table>\n",
       "</div>"
      ],
      "text/plain": [
       "                                    wallet_id  total_txns  successful_txns  \\\n",
       "0  0x0039f22efb07a647557c7c5d17854cfd6d489ef3         100               99   \n",
       "1  0x06b51c6882b27cb05e712185531c1f74996dd988           5                5   \n",
       "2  0x0795732aacc448030ef374374eaae57d2965c16c           4                4   \n",
       "3  0x0aaa79f1a86bc8136cd0d1ca0d51964f4e3766f9          80               80   \n",
       "4  0x0fe383e5abc200055a7f391f94a5f5d1f844b9ae           5                5   \n",
       "\n",
       "   success_ratio  total_gas  \n",
       "0           0.99  235826553  \n",
       "1           1.00     308732  \n",
       "2           1.00     290793  \n",
       "3           1.00  132280277  \n",
       "4           1.00     308720  "
      ]
     },
     "execution_count": 17,
     "metadata": {},
     "output_type": "execute_result"
    }
   ],
   "source": [
    "wallet_features = []\n",
    "\n",
    "for wallet, txns in wallet_data.items():\n",
    "    total_txns = len(txns)\n",
    "    total_gas = sum(txn.get(\"gas_spent\", 0) for txn in txns if txn.get(\"gas_spent\"))\n",
    "    successful_txns = sum(1 for txn in txns if txn.get(\"successful\") == True)\n",
    "\n",
    "    wallet_features.append({\n",
    "        \"wallet_id\": wallet,\n",
    "        \"total_txns\": total_txns,\n",
    "        \"successful_txns\": successful_txns,\n",
    "        \"success_ratio\": successful_txns / total_txns if total_txns else 0,\n",
    "        \"total_gas\": total_gas\n",
    "    })\n",
    "\n",
    "features_df = pd.DataFrame(wallet_features)\n",
    "features_df.head()"
   ]
  },
  {
   "cell_type": "markdown",
   "id": "9918cef5-048f-4ed0-82f6-f9795141589d",
   "metadata": {},
   "source": [
    "### Normalize Features & Score Wallets"
   ]
  },
  {
   "cell_type": "code",
   "execution_count": 19,
   "id": "e1110f45-1d49-40ea-a1a1-63c2c5ee5e1a",
   "metadata": {},
   "outputs": [],
   "source": [
    "from sklearn.preprocessing import MinMaxScaler\n",
    "\n",
    "scaler = MinMaxScaler()\n",
    "score_features = features_df[[\"total_txns\", \"successful_txns\", \"success_ratio\", \"total_gas\"]]\n",
    "features_df_scaled = pd.DataFrame(scaler.fit_transform(score_features), columns=score_features.columns)\n",
    "\n",
    "features_df[\"score\"] = (features_df_scaled * [0.3, 0.3, 0.3, 0.1]).sum(axis=1) * 1000\n",
    "features_df[\"score\"] = features_df[\"score\"].astype(int)\n"
   ]
  },
  {
   "cell_type": "markdown",
   "id": "ba9fc193-cccd-4ff3-bbb5-c455d648fd00",
   "metadata": {},
   "source": [
    "### Save to CSV"
   ]
  },
  {
   "cell_type": "code",
   "execution_count": 21,
   "id": "c765924f-fafd-42ff-a947-30bb6309db05",
   "metadata": {},
   "outputs": [
    {
     "data": {
      "text/html": [
       "<div>\n",
       "<style scoped>\n",
       "    .dataframe tbody tr th:only-of-type {\n",
       "        vertical-align: middle;\n",
       "    }\n",
       "\n",
       "    .dataframe tbody tr th {\n",
       "        vertical-align: top;\n",
       "    }\n",
       "\n",
       "    .dataframe thead th {\n",
       "        text-align: right;\n",
       "    }\n",
       "</style>\n",
       "<table border=\"1\" class=\"dataframe\">\n",
       "  <thead>\n",
       "    <tr style=\"text-align: right;\">\n",
       "      <th></th>\n",
       "      <th>wallet_id</th>\n",
       "      <th>score</th>\n",
       "    </tr>\n",
       "  </thead>\n",
       "  <tbody>\n",
       "    <tr>\n",
       "      <th>0</th>\n",
       "      <td>0x0039f22efb07a647557c7c5d17854cfd6d489ef3</td>\n",
       "      <td>849</td>\n",
       "    </tr>\n",
       "    <tr>\n",
       "      <th>1</th>\n",
       "      <td>0x06b51c6882b27cb05e712185531c1f74996dd988</td>\n",
       "      <td>306</td>\n",
       "    </tr>\n",
       "    <tr>\n",
       "      <th>2</th>\n",
       "      <td>0x0795732aacc448030ef374374eaae57d2965c16c</td>\n",
       "      <td>300</td>\n",
       "    </tr>\n",
       "    <tr>\n",
       "      <th>3</th>\n",
       "      <td>0x0aaa79f1a86bc8136cd0d1ca0d51964f4e3766f9</td>\n",
       "      <td>833</td>\n",
       "    </tr>\n",
       "    <tr>\n",
       "      <th>4</th>\n",
       "      <td>0x0fe383e5abc200055a7f391f94a5f5d1f844b9ae</td>\n",
       "      <td>306</td>\n",
       "    </tr>\n",
       "  </tbody>\n",
       "</table>\n",
       "</div>"
      ],
      "text/plain": [
       "                                    wallet_id  score\n",
       "0  0x0039f22efb07a647557c7c5d17854cfd6d489ef3    849\n",
       "1  0x06b51c6882b27cb05e712185531c1f74996dd988    306\n",
       "2  0x0795732aacc448030ef374374eaae57d2965c16c    300\n",
       "3  0x0aaa79f1a86bc8136cd0d1ca0d51964f4e3766f9    833\n",
       "4  0x0fe383e5abc200055a7f391f94a5f5d1f844b9ae    306"
      ]
     },
     "execution_count": 21,
     "metadata": {},
     "output_type": "execute_result"
    }
   ],
   "source": [
    "final_df = features_df[[\"wallet_id\", \"score\"]]\n",
    "final_df.to_csv(\"wallet_scores.csv\", index=False)\n",
    "final_df.head()"
   ]
  },
  {
   "cell_type": "markdown",
   "id": "8121c6da-224a-43a3-9b07-65103671639a",
   "metadata": {},
   "source": [
    "### Explanation"
   ]
  },
  {
   "cell_type": "raw",
   "id": "56ec430f-87d7-4208-ba1a-d02be1a4d6e4",
   "metadata": {},
   "source": [
    "Data Collection: Used Covalent API for transaction data on Ethereum Mainnet.\n",
    "\n",
    "Feature Selection:\n",
    "\n",
    "total_txns: Activity level.\n",
    "successful_txns: Reliability.\n",
    "success_ratio: Quality of transactions.\n",
    "total_gas: Economic impact.\n",
    "\n",
    "Scoring:\n",
    "\n",
    "MinMax normalization.\n",
    "Weighted sum to generate score between 0–1000.\n",
    "Justification: Metrics capture both quantity and quality of wallet behavior."
   ]
  }
 ],
 "metadata": {
  "kernelspec": {
   "display_name": "Python [conda env:base] *",
   "language": "python",
   "name": "conda-base-py"
  },
  "language_info": {
   "codemirror_mode": {
    "name": "ipython",
    "version": 3
   },
   "file_extension": ".py",
   "mimetype": "text/x-python",
   "name": "python",
   "nbconvert_exporter": "python",
   "pygments_lexer": "ipython3",
   "version": "3.12.7"
  }
 },
 "nbformat": 4,
 "nbformat_minor": 5
}
